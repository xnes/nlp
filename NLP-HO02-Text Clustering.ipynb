{
 "cells": [
  {
   "attachments": {},
   "cell_type": "markdown",
   "metadata": {},
   "source": [
    "# HO02: Text Clustering\n",
    "*Vencimento* 16 mai por 7:00 *Pontos* 5\n",
    "\n",
    "## Problema\n",
    "Clusterizar o conjunto de dados 20 News Group DatasetLinks to an external site., vetorizando o dataset utilizando TF-IDF e Word2Vec, utilizando cada uma das abordagens abaixo:\n",
    "\n",
    "- K-Means (K=4)\n",
    "- Spectral Clustering (K=6)\n",
    "- Gaussian Mixture\n",
    "- Agglomerative Clustering\n",
    "- DBSCAN\n",
    "- HDBSCAN\n",
    "\n",
    "Para cada cluster, mostrar os top-10 documentos e os top-20 tokens que representam o cluster.\n",
    "\n",
    "**usar biblioteca python para baixar esse dataset**\n",
    "https://builtin.com/data-science/tsne-python"
   ]
  },
  {
   "attachments": {},
   "cell_type": "markdown",
   "metadata": {},
   "source": [
    "Clustering são algoritmos não supervisionados, explotarory data mining, analise prévia\n",
    "Clustering não tem rótulos."
   ]
  },
  {
   "cell_type": "markdown",
   "metadata": {},
   "source": []
  }
 ],
 "metadata": {
  "language_info": {
   "name": "python"
  },
  "orig_nbformat": 4
 },
 "nbformat": 4,
 "nbformat_minor": 2
}
